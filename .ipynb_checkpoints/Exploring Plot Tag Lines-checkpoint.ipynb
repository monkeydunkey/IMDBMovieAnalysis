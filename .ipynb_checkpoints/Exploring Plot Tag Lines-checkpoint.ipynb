{
 "cells": [
  {
   "cell_type": "code",
   "execution_count": 95,
   "metadata": {
    "collapsed": true
   },
   "outputs": [],
   "source": [
    "%matplotlib inline\n",
    "\n",
    "import pandas as pd\n",
    "import numpy as np\n",
    "import seaborn as sns\n",
    "from sklearn.feature_extraction.text import CountVectorizer"
   ]
  },
  {
   "cell_type": "code",
   "execution_count": 110,
   "metadata": {
    "collapsed": false
   },
   "outputs": [
    {
     "data": {
      "text/html": [
       "<div>\n",
       "<table border=\"1\" class=\"dataframe\">\n",
       "  <thead>\n",
       "    <tr style=\"text-align: right;\">\n",
       "      <th></th>\n",
       "      <th>color</th>\n",
       "      <th>director_name</th>\n",
       "      <th>num_critic_for_reviews</th>\n",
       "      <th>duration</th>\n",
       "      <th>director_facebook_likes</th>\n",
       "      <th>actor_3_facebook_likes</th>\n",
       "      <th>actor_2_name</th>\n",
       "      <th>actor_1_facebook_likes</th>\n",
       "      <th>gross</th>\n",
       "      <th>genres</th>\n",
       "      <th>...</th>\n",
       "      <th>num_user_for_reviews</th>\n",
       "      <th>language</th>\n",
       "      <th>country</th>\n",
       "      <th>content_rating</th>\n",
       "      <th>budget</th>\n",
       "      <th>title_year</th>\n",
       "      <th>actor_2_facebook_likes</th>\n",
       "      <th>imdb_score</th>\n",
       "      <th>aspect_ratio</th>\n",
       "      <th>movie_facebook_likes</th>\n",
       "    </tr>\n",
       "  </thead>\n",
       "  <tbody>\n",
       "    <tr>\n",
       "      <th>0</th>\n",
       "      <td>Color</td>\n",
       "      <td>James Cameron</td>\n",
       "      <td>723.0</td>\n",
       "      <td>178.0</td>\n",
       "      <td>0.0</td>\n",
       "      <td>855.0</td>\n",
       "      <td>Joel David Moore</td>\n",
       "      <td>1000.0</td>\n",
       "      <td>760505847.0</td>\n",
       "      <td>Action|Adventure|Fantasy|Sci-Fi</td>\n",
       "      <td>...</td>\n",
       "      <td>3054.0</td>\n",
       "      <td>English</td>\n",
       "      <td>USA</td>\n",
       "      <td>PG-13</td>\n",
       "      <td>237000000.0</td>\n",
       "      <td>2009.0</td>\n",
       "      <td>936.0</td>\n",
       "      <td>7.9</td>\n",
       "      <td>1.78</td>\n",
       "      <td>33000</td>\n",
       "    </tr>\n",
       "    <tr>\n",
       "      <th>1</th>\n",
       "      <td>Color</td>\n",
       "      <td>Gore Verbinski</td>\n",
       "      <td>302.0</td>\n",
       "      <td>169.0</td>\n",
       "      <td>563.0</td>\n",
       "      <td>1000.0</td>\n",
       "      <td>Orlando Bloom</td>\n",
       "      <td>40000.0</td>\n",
       "      <td>309404152.0</td>\n",
       "      <td>Action|Adventure|Fantasy</td>\n",
       "      <td>...</td>\n",
       "      <td>1238.0</td>\n",
       "      <td>English</td>\n",
       "      <td>USA</td>\n",
       "      <td>PG-13</td>\n",
       "      <td>300000000.0</td>\n",
       "      <td>2007.0</td>\n",
       "      <td>5000.0</td>\n",
       "      <td>7.1</td>\n",
       "      <td>2.35</td>\n",
       "      <td>0</td>\n",
       "    </tr>\n",
       "    <tr>\n",
       "      <th>2</th>\n",
       "      <td>Color</td>\n",
       "      <td>Sam Mendes</td>\n",
       "      <td>602.0</td>\n",
       "      <td>148.0</td>\n",
       "      <td>0.0</td>\n",
       "      <td>161.0</td>\n",
       "      <td>Rory Kinnear</td>\n",
       "      <td>11000.0</td>\n",
       "      <td>200074175.0</td>\n",
       "      <td>Action|Adventure|Thriller</td>\n",
       "      <td>...</td>\n",
       "      <td>994.0</td>\n",
       "      <td>English</td>\n",
       "      <td>UK</td>\n",
       "      <td>PG-13</td>\n",
       "      <td>245000000.0</td>\n",
       "      <td>2015.0</td>\n",
       "      <td>393.0</td>\n",
       "      <td>6.8</td>\n",
       "      <td>2.35</td>\n",
       "      <td>85000</td>\n",
       "    </tr>\n",
       "    <tr>\n",
       "      <th>3</th>\n",
       "      <td>Color</td>\n",
       "      <td>Christopher Nolan</td>\n",
       "      <td>813.0</td>\n",
       "      <td>164.0</td>\n",
       "      <td>22000.0</td>\n",
       "      <td>23000.0</td>\n",
       "      <td>Christian Bale</td>\n",
       "      <td>27000.0</td>\n",
       "      <td>448130642.0</td>\n",
       "      <td>Action|Thriller</td>\n",
       "      <td>...</td>\n",
       "      <td>2701.0</td>\n",
       "      <td>English</td>\n",
       "      <td>USA</td>\n",
       "      <td>PG-13</td>\n",
       "      <td>250000000.0</td>\n",
       "      <td>2012.0</td>\n",
       "      <td>23000.0</td>\n",
       "      <td>8.5</td>\n",
       "      <td>2.35</td>\n",
       "      <td>164000</td>\n",
       "    </tr>\n",
       "    <tr>\n",
       "      <th>4</th>\n",
       "      <td>NaN</td>\n",
       "      <td>Doug Walker</td>\n",
       "      <td>NaN</td>\n",
       "      <td>NaN</td>\n",
       "      <td>131.0</td>\n",
       "      <td>NaN</td>\n",
       "      <td>Rob Walker</td>\n",
       "      <td>131.0</td>\n",
       "      <td>NaN</td>\n",
       "      <td>Documentary</td>\n",
       "      <td>...</td>\n",
       "      <td>NaN</td>\n",
       "      <td>NaN</td>\n",
       "      <td>NaN</td>\n",
       "      <td>NaN</td>\n",
       "      <td>NaN</td>\n",
       "      <td>NaN</td>\n",
       "      <td>12.0</td>\n",
       "      <td>7.1</td>\n",
       "      <td>NaN</td>\n",
       "      <td>0</td>\n",
       "    </tr>\n",
       "  </tbody>\n",
       "</table>\n",
       "<p>5 rows × 28 columns</p>\n",
       "</div>"
      ],
      "text/plain": [
       "   color      director_name  num_critic_for_reviews  duration  \\\n",
       "0  Color      James Cameron                   723.0     178.0   \n",
       "1  Color     Gore Verbinski                   302.0     169.0   \n",
       "2  Color         Sam Mendes                   602.0     148.0   \n",
       "3  Color  Christopher Nolan                   813.0     164.0   \n",
       "4    NaN        Doug Walker                     NaN       NaN   \n",
       "\n",
       "   director_facebook_likes  actor_3_facebook_likes      actor_2_name  \\\n",
       "0                      0.0                   855.0  Joel David Moore   \n",
       "1                    563.0                  1000.0     Orlando Bloom   \n",
       "2                      0.0                   161.0      Rory Kinnear   \n",
       "3                  22000.0                 23000.0    Christian Bale   \n",
       "4                    131.0                     NaN        Rob Walker   \n",
       "\n",
       "   actor_1_facebook_likes        gross                           genres  \\\n",
       "0                  1000.0  760505847.0  Action|Adventure|Fantasy|Sci-Fi   \n",
       "1                 40000.0  309404152.0         Action|Adventure|Fantasy   \n",
       "2                 11000.0  200074175.0        Action|Adventure|Thriller   \n",
       "3                 27000.0  448130642.0                  Action|Thriller   \n",
       "4                   131.0          NaN                      Documentary   \n",
       "\n",
       "          ...          num_user_for_reviews language  country  content_rating  \\\n",
       "0         ...                        3054.0  English      USA           PG-13   \n",
       "1         ...                        1238.0  English      USA           PG-13   \n",
       "2         ...                         994.0  English       UK           PG-13   \n",
       "3         ...                        2701.0  English      USA           PG-13   \n",
       "4         ...                           NaN      NaN      NaN             NaN   \n",
       "\n",
       "        budget  title_year actor_2_facebook_likes imdb_score  aspect_ratio  \\\n",
       "0  237000000.0      2009.0                  936.0        7.9          1.78   \n",
       "1  300000000.0      2007.0                 5000.0        7.1          2.35   \n",
       "2  245000000.0      2015.0                  393.0        6.8          2.35   \n",
       "3  250000000.0      2012.0                23000.0        8.5          2.35   \n",
       "4          NaN         NaN                   12.0        7.1           NaN   \n",
       "\n",
       "  movie_facebook_likes  \n",
       "0                33000  \n",
       "1                    0  \n",
       "2                85000  \n",
       "3               164000  \n",
       "4                    0  \n",
       "\n",
       "[5 rows x 28 columns]"
      ]
     },
     "execution_count": 110,
     "metadata": {},
     "output_type": "execute_result"
    }
   ],
   "source": [
    "df = pd.read_csv('movie_metadata.csv')\n",
    "df.head()"
   ]
  },
  {
   "cell_type": "code",
   "execution_count": 5,
   "metadata": {
    "collapsed": false
   },
   "outputs": [
    {
     "data": {
      "text/plain": [
       "color                         object\n",
       "director_name                 object\n",
       "num_critic_for_reviews       float64\n",
       "duration                     float64\n",
       "director_facebook_likes      float64\n",
       "actor_3_facebook_likes       float64\n",
       "actor_2_name                  object\n",
       "actor_1_facebook_likes       float64\n",
       "gross                        float64\n",
       "genres                        object\n",
       "actor_1_name                  object\n",
       "movie_title                   object\n",
       "num_voted_users                int64\n",
       "cast_total_facebook_likes      int64\n",
       "actor_3_name                  object\n",
       "facenumber_in_poster         float64\n",
       "plot_keywords                 object\n",
       "movie_imdb_link               object\n",
       "num_user_for_reviews         float64\n",
       "language                      object\n",
       "country                       object\n",
       "content_rating                object\n",
       "budget                       float64\n",
       "title_year                   float64\n",
       "actor_2_facebook_likes       float64\n",
       "imdb_score                   float64\n",
       "aspect_ratio                 float64\n",
       "movie_facebook_likes           int64\n",
       "dtype: object"
      ]
     },
     "execution_count": 5,
     "metadata": {},
     "output_type": "execute_result"
    }
   ],
   "source": [
    "df.dtypes"
   ]
  },
  {
   "cell_type": "markdown",
   "metadata": {},
   "source": [
    "Relations I want to explore\n",
    "1) Duration vs Score, budget\n",
    "2) Most famous type of movies - IMDB score based, Gross based and budget based to get producers view\n",
    "Get the top 250 movie by Budget, IMDB Score and Gross "
   ]
  },
  {
   "cell_type": "code",
   "execution_count": 113,
   "metadata": {
    "collapsed": false
   },
   "outputs": [
    {
     "data": {
      "text/html": [
       "<div>\n",
       "<table border=\"1\" class=\"dataframe\">\n",
       "  <thead>\n",
       "    <tr style=\"text-align: right;\">\n",
       "      <th></th>\n",
       "      <th>plot_keywords</th>\n",
       "      <th>gross</th>\n",
       "      <th>budget</th>\n",
       "      <th>duration</th>\n",
       "      <th>imdb_score</th>\n",
       "      <th>movie_title</th>\n",
       "      <th>tags</th>\n",
       "    </tr>\n",
       "  </thead>\n",
       "  <tbody>\n",
       "    <tr>\n",
       "      <th>0</th>\n",
       "      <td>avatar|future|marine|native|paraplegic</td>\n",
       "      <td>760505847.0</td>\n",
       "      <td>237000000.0</td>\n",
       "      <td>178.0</td>\n",
       "      <td>7.9</td>\n",
       "      <td>Avatar</td>\n",
       "      <td>avatar</td>\n",
       "    </tr>\n",
       "    <tr>\n",
       "      <th>0</th>\n",
       "      <td>avatar|future|marine|native|paraplegic</td>\n",
       "      <td>760505847.0</td>\n",
       "      <td>237000000.0</td>\n",
       "      <td>178.0</td>\n",
       "      <td>7.9</td>\n",
       "      <td>Avatar</td>\n",
       "      <td>future</td>\n",
       "    </tr>\n",
       "    <tr>\n",
       "      <th>0</th>\n",
       "      <td>avatar|future|marine|native|paraplegic</td>\n",
       "      <td>760505847.0</td>\n",
       "      <td>237000000.0</td>\n",
       "      <td>178.0</td>\n",
       "      <td>7.9</td>\n",
       "      <td>Avatar</td>\n",
       "      <td>marine</td>\n",
       "    </tr>\n",
       "    <tr>\n",
       "      <th>0</th>\n",
       "      <td>avatar|future|marine|native|paraplegic</td>\n",
       "      <td>760505847.0</td>\n",
       "      <td>237000000.0</td>\n",
       "      <td>178.0</td>\n",
       "      <td>7.9</td>\n",
       "      <td>Avatar</td>\n",
       "      <td>native</td>\n",
       "    </tr>\n",
       "    <tr>\n",
       "      <th>0</th>\n",
       "      <td>avatar|future|marine|native|paraplegic</td>\n",
       "      <td>760505847.0</td>\n",
       "      <td>237000000.0</td>\n",
       "      <td>178.0</td>\n",
       "      <td>7.9</td>\n",
       "      <td>Avatar</td>\n",
       "      <td>paraplegic</td>\n",
       "    </tr>\n",
       "  </tbody>\n",
       "</table>\n",
       "</div>"
      ],
      "text/plain": [
       "                            plot_keywords        gross       budget  duration  \\\n",
       "0  avatar|future|marine|native|paraplegic  760505847.0  237000000.0     178.0   \n",
       "0  avatar|future|marine|native|paraplegic  760505847.0  237000000.0     178.0   \n",
       "0  avatar|future|marine|native|paraplegic  760505847.0  237000000.0     178.0   \n",
       "0  avatar|future|marine|native|paraplegic  760505847.0  237000000.0     178.0   \n",
       "0  avatar|future|marine|native|paraplegic  760505847.0  237000000.0     178.0   \n",
       "\n",
       "   imdb_score movie_title        tags  \n",
       "0         7.9     Avatar       avatar  \n",
       "0         7.9     Avatar       future  \n",
       "0         7.9     Avatar       marine  \n",
       "0         7.9     Avatar       native  \n",
       "0         7.9     Avatar   paraplegic  "
      ]
     },
     "execution_count": 113,
     "metadata": {},
     "output_type": "execute_result"
    }
   ],
   "source": [
    "df = df[df['num_voted_users'] > 100][['plot_keywords', 'gross', 'budget','duration','imdb_score', 'movie_title']]\n",
    "tags = df['plot_keywords'].copy().str.split('|').apply(pd.Series, 1).stack()\n",
    "tags.index = tags.index.droplevel(-1)\n",
    "tags.index\n",
    "tags.name = 'tags'\n",
    "df = df.join(tags)\n",
    "df.head()"
   ]
  },
  {
   "cell_type": "code",
   "execution_count": 114,
   "metadata": {
    "collapsed": false
   },
   "outputs": [
    {
     "data": {
      "text/plain": [
       "<23933x11144 sparse matrix of type '<type 'numpy.int64'>'\n",
       "\twith 45049 stored elements in Compressed Sparse Row format>"
      ]
     },
     "execution_count": 114,
     "metadata": {},
     "output_type": "execute_result"
    }
   ],
   "source": [
    "count_vect = CountVectorizer(ngram_range=(1,2), stop_words ={'and', 'in', 'of', 'the', 'on','to', 'title','reference',\\\n",
    "                                                             'female','male'})\n",
    "X_train_counts = count_vect.fit_transform(df.tags.dropna())\n",
    "X_train_counts"
   ]
  },
  {
   "cell_type": "code",
   "execution_count": 126,
   "metadata": {
    "collapsed": false
   },
   "outputs": [
    {
     "data": {
      "text/plain": [
       "[u'police',\n",
       " u'war',\n",
       " u'friend',\n",
       " u'death',\n",
       " u'love',\n",
       " u'based',\n",
       " u'murder',\n",
       " u'nudity',\n",
       " u'relationship',\n",
       " u'school',\n",
       " u'escape',\n",
       " u'girl',\n",
       " u'space',\n",
       " u'time',\n",
       " u'century',\n",
       " u'christmas',\n",
       " u'detective',\n",
       " u'alien',\n",
       " u'family',\n",
       " u'gang',\n",
       " u'high',\n",
       " u'memory',\n",
       " u'nazi',\n",
       " u'soldier',\n",
       " u'travel',\n",
       " u'vietnam',\n",
       " u'american',\n",
       " u'boxing',\n",
       " u'brother',\n",
       " u'crime']"
      ]
     },
     "execution_count": 126,
     "metadata": {},
     "output_type": "execute_result"
    }
   ],
   "source": [
    "MaxFeatureValues = X_train_counts.todense().sum(axis = 0).tolist()[0]\n",
    "phrase_scores = [pair for pair in zip(range(0, len(MaxFeatureValues)), MaxFeatureValues) if pair[1] > 0]\n",
    "TopTags = sorted(phrase_scores, key=lambda t: t[1] * -1)[:30]\n",
    "ind = [x[0] for x in TopTags]\n",
    "featurelist = count_vect.get_feature_names()\n",
    "TopTagsNames = [featurelist[j] for j in ind]\n",
    "TopTagsNames"
   ]
  },
  {
   "cell_type": "code",
   "execution_count": null,
   "metadata": {
    "collapsed": false
   },
   "outputs": [],
   "source": []
  },
  {
   "cell_type": "code",
   "execution_count": 125,
   "metadata": {
    "collapsed": false
   },
   "outputs": [
    {
     "data": {
      "text/plain": [
       "<1221x1562 sparse matrix of type '<type 'numpy.int64'>'\n",
       "\twith 2349 stored elements in Compressed Sparse Row format>"
      ]
     },
     "execution_count": 125,
     "metadata": {},
     "output_type": "execute_result"
    }
   ],
   "source": [
    "Top250 = df[['movie_title','imdb_score']].drop_duplicates().sort_values('imdb_score').tail(250)\n",
    "Top250IMDBScore = Top250.join(df[['tags']])\n",
    "X_train_counts = count_vect.fit_transform(Top250IMDBScore.tags.dropna())\n",
    "X_train_counts"
   ]
  },
  {
   "cell_type": "code",
   "execution_count": 127,
   "metadata": {
    "collapsed": false
   },
   "outputs": [
    {
     "data": {
      "text/plain": [
       "[u'police',\n",
       " u'war',\n",
       " u'friend',\n",
       " u'death',\n",
       " u'love',\n",
       " u'based',\n",
       " u'murder',\n",
       " u'nudity',\n",
       " u'relationship',\n",
       " u'school',\n",
       " u'escape',\n",
       " u'girl',\n",
       " u'space',\n",
       " u'time',\n",
       " u'century',\n",
       " u'christmas',\n",
       " u'detective',\n",
       " u'alien',\n",
       " u'family',\n",
       " u'gang',\n",
       " u'high',\n",
       " u'memory',\n",
       " u'nazi',\n",
       " u'soldier',\n",
       " u'travel',\n",
       " u'vietnam',\n",
       " u'american',\n",
       " u'boxing',\n",
       " u'brother',\n",
       " u'crime']"
      ]
     },
     "execution_count": 127,
     "metadata": {},
     "output_type": "execute_result"
    }
   ],
   "source": [
    "MaxFeatureValues = X_train_counts.todense().sum(axis = 0).tolist()[0]\n",
    "phrase_scores = [pair for pair in zip(range(0, len(MaxFeatureValues)), MaxFeatureValues) if pair[1] > 0]\n",
    "TopTags = sorted(phrase_scores, key=lambda t: t[1] * -1)[:30]\n",
    "ind = [x[0] for x in TopTags]\n",
    "featurelist = count_vect.get_feature_names()\n",
    "TopTagsNamesIMDB250 = [featurelist[j] for j in ind]\n",
    "TopTagsNamesIMDB250"
   ]
  },
  {
   "cell_type": "code",
   "execution_count": 128,
   "metadata": {
    "collapsed": false
   },
   "outputs": [
    {
     "data": {
      "text/plain": [
       "<1009x1312 sparse matrix of type '<type 'numpy.int64'>'\n",
       "\twith 1987 stored elements in Compressed Sparse Row format>"
      ]
     },
     "execution_count": 128,
     "metadata": {},
     "output_type": "execute_result"
    }
   ],
   "source": [
    "Top250 = df[['movie_title','gross']].drop_duplicates().sort_values('gross').tail(250)\n",
    "Top250Grossing = Top250.join(df[['tags']])\n",
    "X_train_counts = count_vect.fit_transform(Top250Grossing.tags.dropna())\n",
    "X_train_counts"
   ]
  },
  {
   "cell_type": "code",
   "execution_count": 129,
   "metadata": {
    "collapsed": false
   },
   "outputs": [
    {
     "data": {
      "text/plain": [
       "[u'nudity',\n",
       " u'relationship',\n",
       " u'sex',\n",
       " u'based',\n",
       " u'film',\n",
       " u'police',\n",
       " u'death',\n",
       " u'frontal',\n",
       " u'frontal nudity',\n",
       " u'love',\n",
       " u'girl',\n",
       " u'new',\n",
       " u'party',\n",
       " u'city',\n",
       " u'cult',\n",
       " u'friend',\n",
       " u'new york',\n",
       " u'school',\n",
       " u'series',\n",
       " u'war',\n",
       " u'woman',\n",
       " u'word',\n",
       " u'york',\n",
       " u'father',\n",
       " u'man',\n",
       " u'one',\n",
       " u'panties',\n",
       " u'trip',\n",
       " u'zombie',\n",
       " u'blood']"
      ]
     },
     "execution_count": 129,
     "metadata": {},
     "output_type": "execute_result"
    }
   ],
   "source": [
    "MaxFeatureValues = X_train_counts.todense().sum(axis = 0).tolist()[0]\n",
    "phrase_scores = [pair for pair in zip(range(0, len(MaxFeatureValues)), MaxFeatureValues) if pair[1] > 0]\n",
    "TopTags = sorted(phrase_scores, key=lambda t: t[1] * -1)[:30]\n",
    "ind = [x[0] for x in TopTags]\n",
    "featurelist = count_vect.get_feature_names()\n",
    "TopTagsNames250Grossing = [featurelist[j] for j in ind]\n",
    "TopTagsNames250Grossing"
   ]
  },
  {
   "cell_type": "code",
   "execution_count": 131,
   "metadata": {
    "collapsed": false
   },
   "outputs": [
    {
     "data": {
      "text/plain": [
       "<1137x1423 sparse matrix of type '<type 'numpy.int64'>'\n",
       "\twith 2299 stored elements in Compressed Sparse Row format>"
      ]
     },
     "execution_count": 131,
     "metadata": {},
     "output_type": "execute_result"
    }
   ],
   "source": [
    "Top250 = df[['movie_title','budget']].drop_duplicates().sort_values('budget').tail(250)\n",
    "Top250Budget = Top250.join(df[['tags']])\n",
    "X_train_counts = count_vect.fit_transform(Top250Budget.tags.dropna())\n",
    "X_train_counts"
   ]
  },
  {
   "cell_type": "code",
   "execution_count": 132,
   "metadata": {
    "collapsed": false
   },
   "outputs": [
    {
     "data": {
      "text/plain": [
       "[u'nudity',\n",
       " u'school',\n",
       " u'sex',\n",
       " u'new',\n",
       " u'new york',\n",
       " u'relationship',\n",
       " u'york',\n",
       " u'frontal',\n",
       " u'frontal nudity',\n",
       " u'friend',\n",
       " u'police',\n",
       " u'high',\n",
       " u'one',\n",
       " u'city',\n",
       " u'friendship',\n",
       " u'high school',\n",
       " u'based',\n",
       " u'brother',\n",
       " u'love',\n",
       " u'death',\n",
       " u'girl',\n",
       " u'series',\n",
       " u'word',\n",
       " u'york city',\n",
       " u'best',\n",
       " u'by',\n",
       " u'father',\n",
       " u'hair',\n",
       " u'mother',\n",
       " u'singer']"
      ]
     },
     "execution_count": 132,
     "metadata": {},
     "output_type": "execute_result"
    }
   ],
   "source": [
    "MaxFeatureValues = X_train_counts.todense().sum(axis = 0).tolist()[0]\n",
    "phrase_scores = [pair for pair in zip(range(0, len(MaxFeatureValues)), MaxFeatureValues) if pair[1] > 0]\n",
    "TopTags = sorted(phrase_scores, key=lambda t: t[1] * -1)[:30]\n",
    "ind = [x[0] for x in TopTags]\n",
    "featurelist = count_vect.get_feature_names()\n",
    "TopTagsNames250Budget = [featurelist[j] for j in ind]\n",
    "TopTagsNames250Budget"
   ]
  },
  {
   "cell_type": "code",
   "execution_count": null,
   "metadata": {
    "collapsed": true
   },
   "outputs": [],
   "source": []
  }
 ],
 "metadata": {
  "kernelspec": {
   "display_name": "Python [Root]",
   "language": "python",
   "name": "Python [Root]"
  },
  "language_info": {
   "codemirror_mode": {
    "name": "ipython",
    "version": 2
   },
   "file_extension": ".py",
   "mimetype": "text/x-python",
   "name": "python",
   "nbconvert_exporter": "python",
   "pygments_lexer": "ipython2",
   "version": "2.7.12"
  }
 },
 "nbformat": 4,
 "nbformat_minor": 0
}
